{
 "cells": [
  {
   "cell_type": "code",
   "execution_count": 6,
   "metadata": {},
   "outputs": [],
   "source": [
    "# Written by: Isidora Fletcher\n",
    "# This jupyter notebook contains the preprocessing step from Isi, Pragya and Ehsan together.\n",
    "# I added Ehsan and Pragya's part, because I needed them to correctly nirmalize the data.\n",
    "import numpy as np\n",
    "import pandas as pd\n",
    "import seaborn as sns\n",
    "import matplotlib.pyplot as plt\n",
    "from sklearn.preprocessing import LabelEncoder\n",
    "from sklearn.impute import SimpleImputer"
   ]
  },
  {
   "cell_type": "code",
   "execution_count": 15,
   "metadata": {},
   "outputs": [
    {
     "name": "stdout",
     "output_type": "stream",
     "text": [
      "Percent of data that is missing: 0.1002906976744186\n"
     ]
    }
   ],
   "source": [
    "# Getting the raw data\n",
    "df = pd.read_csv('housing.csv') # Notice: Raw data is in the Data folder\n",
    "#print(df)\n",
    "# Creating instance for label encoder.\n",
    "le = LabelEncoder()\n",
    "\n",
    "# Asssigning numerical values to ocean proximity.\n",
    "# I changed the name from housing to df to have consistency between Pragya's and Ehsan's codes.\n",
    "df[\"ocean_proximity\"]= le.fit_transform(df[\"ocean_proximity\"])\n",
    "\n",
    "\n",
    "# Observing missing values\n",
    "missing_values_count = df.isnull().sum()\n",
    "missing_values_count[:]\n",
    "\n",
    "total_cells   = np.product(df.shape)\n",
    "total_missing = missing_values_count.sum()\n",
    "percent_missing = (total_missing/total_cells)*100\n",
    "print('Percent of data that is missing:', percent_missing)\n",
    "\n",
    "imputer = SimpleImputer(strategy = \"median\")\n",
    "housing_numerical_attributes = df.drop(\"ocean_proximity\", axis = 1) # We need to see how to put this back.\n",
    "imputer.fit(housing_numerical_attributes)  \n",
    "X = imputer.transform(housing_numerical_attributes)\n",
    "\n",
    "# Data with replaced NA values.\n",
    "# I changed the name from new_df to housing.\n",
    "housing = pd.DataFrame(X, columns = housing_numerical_attributes.columns, index = housing_numerical_attributes.index)\n",
    "\n",
    "\n",
    "#### My part ####\n",
    "# Creating pandas series full of zeros to store the standard deviation and the mean.\n",
    "std_dev= pd.Series({col:0 for col in housing.columns}, dtype=\"float32\")\n",
    "mean= pd.Series({col:0 for col in housing.columns}, dtype=\"float32\")\n",
    "\n",
    "# Getting the values for the mean and standard deviation from the data.\n",
    "for col in housing.columns:\n",
    "    std_dev[col]= housing[col].std()\n",
    "    mean[col]= housing[col].mean()\n",
    "    # Changing the data so it is normalized with the mean and standard deviation.\n",
    "    housing[col]=(housing[col]-mean[col])/std_dev[col]\n",
    "    \n",
    "# Now housing is the data normalized, but it is missing the ocean_proximity column."
   ]
  }
 ],
 "metadata": {
  "kernelspec": {
   "display_name": "Python 3",
   "language": "python",
   "name": "python3"
  },
  "language_info": {
   "codemirror_mode": {
    "name": "ipython",
    "version": 3
   },
   "file_extension": ".py",
   "mimetype": "text/x-python",
   "name": "python",
   "nbconvert_exporter": "python",
   "pygments_lexer": "ipython3",
   "version": "3.7.3"
  }
 },
 "nbformat": 4,
 "nbformat_minor": 2
}
